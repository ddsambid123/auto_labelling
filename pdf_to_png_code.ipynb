{
 "cells": [
  {
   "cell_type": "code",
   "execution_count": 1,
   "metadata": {},
   "outputs": [],
   "source": [
    "#IMPORT LIBRARIES\n",
    "\n",
    "\n",
    "from wand.image import Image\n",
    "from wand.color import Color\n",
    "import time\n",
    "import os\n"
   ]
  },
  {
   "cell_type": "code",
   "execution_count": 31,
   "metadata": {},
   "outputs": [],
   "source": [
    "\n",
    "import os\n",
    "\n",
    "all_files = []\n",
    "for dirpath, dirnames, filenames in os.walk(\"/datarepo/sambid/SAP Invoices\"):\n",
    "    for filename in [f for f in filenames if f.endswith(\".pdf\")]:\n",
    "        all_files.append(os.path.join(dirpath, filename))"
   ]
  },
  {
   "cell_type": "code",
   "execution_count": 32,
   "metadata": {},
   "outputs": [
    {
     "data": {
      "text/plain": [
       "3997"
      ]
     },
     "execution_count": 32,
     "metadata": {},
     "output_type": "execute_result"
    }
   ],
   "source": [
    "len(all_files)"
   ]
  },
  {
   "cell_type": "code",
   "execution_count": null,
   "metadata": {},
   "outputs": [],
   "source": []
  },
  {
   "cell_type": "code",
   "execution_count": null,
   "metadata": {},
   "outputs": [],
   "source": []
  },
  {
   "cell_type": "code",
   "execution_count": 14,
   "metadata": {},
   "outputs": [
    {
     "name": "stdout",
     "output_type": "stream",
     "text": [
      "/datarepo/sambid/sample_sap_data/5100007077 - HQ01 - 2016_1.pdf\n",
      "1\n",
      "/datarepo/sambid/sample_sap_data/5100006929 - HQ01 - 2017_1.pdf\n",
      "2\n",
      "/datarepo/sambid/sample_sap_data/5100001985 - HQ01 - 2017_1.pdf\n",
      "3\n",
      "4\n",
      "/datarepo/sambid/sample_sap_data/5100011632 - HQ01 - 2018_1.pdf\n",
      "5\n",
      "/datarepo/sambid/sample_sap_data/5100001947 - HQ01 - 2016_1.pdf\n",
      "6\n",
      "/datarepo/sambid/sample_sap_data/5100001991 - HQ01 - 2019_1.pdf\n",
      "7\n",
      "/datarepo/sambid/sample_sap_data/5100011636 - HQ01 - 2016_1.pdf\n",
      "8\n",
      "/datarepo/sambid/sample_sap_data/5100015031 - HQ01 - 2017_1.pdf\n",
      "9\n",
      "/datarepo/sambid/sample_sap_data/5100002028 - HQ01 - 2018_1.pdf\n",
      "10\n",
      "/datarepo/sambid/sample_sap_data/5100006921 - HQ01 - 2016_1.pdf\n",
      "11\n",
      "/datarepo/sambid/sample_sap_data/5100001984 - HQ01 - 2017_1.pdf\n",
      "12\n",
      "/datarepo/sambid/sample_sap_data/5100001909 - HQ01 - 2018_1.pdf\n",
      "13\n",
      "14\n",
      "15\n",
      "16\n",
      "17\n",
      "18\n",
      "19\n",
      "20\n",
      "21\n",
      "22\n",
      "/datarepo/sambid/sample_sap_data/5100011634 - HQ01 - 2016_1.pdf\n",
      "23\n",
      "24\n",
      "25\n",
      "26\n",
      "27\n",
      "28\n",
      "/datarepo/sambid/sample_sap_data/5100002016 - HQ01 - 2019_1.pdf\n",
      "29\n",
      "30\n",
      "31\n",
      "/datarepo/sambid/sample_sap_data/5100014930 - HQ01 - 2016_1.pdf\n",
      "32\n",
      "/datarepo/sambid/sample_sap_data/5100006919 - HQ01 - 2016_1.pdf\n",
      "33\n",
      "/datarepo/sambid/sample_sap_data/5100001994 - HQ01 - 2019_1.pdf\n",
      "34\n",
      "/datarepo/sambid/sample_sap_data/5100015045 - HQ01 - 2017_1.pdf\n",
      "35\n",
      "/datarepo/sambid/sample_sap_data/5100001967 - HQ01 - 2018_1.pdf\n",
      "36\n",
      "/datarepo/sambid/sample_sap_data/5100002013 - HQ01 - 2019_1.pdf\n",
      "37\n",
      "38\n"
     ]
    }
   ],
   "source": [
    "\n",
    "from pdf2image import convert_from_path\n",
    "import os\n",
    "from pdf2image.exceptions import (\n",
    "    PDFInfoNotInstalledError,\n",
    "    PDFPageCountError,\n",
    "    PDFSyntaxError\n",
    ")\n",
    "\n",
    "import glob\n",
    "tempFiles=[]\n",
    "pdf_dir = all_files[0:20]\n",
    "img_dir =\"/datarepo/sambid/out_sap_pngs\"\n",
    "temp_dir=\"/datarepo/sambid/temp_pdf_files\"\n",
    "c = 0\n",
    "for pdf_ in pdf_dir:\n",
    "    #print(pdf_)\n",
    "    pages = convert_from_path(pdf_, output_folder=temp_dir)  # delete this after process\n",
    "    for i, page in enumerate(pages):\n",
    "        \n",
    "        c = c+1\n",
    "        page.save(img_dir+\"/\"+pdf_.split(\"/\")\n",
    "                  [-1][:-4]+str(i+1)+\".png\", \"PNG\")\n",
    "        #print(c)\n",
    "    tempFiles=[i for i in os.listdir(temp_dir) if \".ppm\" in i]\n",
    "    \n",
    "    for items in tempFiles:\n",
    "        os.remove(\"/datarepo/sambid/temp_pdf_files/\"+items)\n",
    "        \n",
    "\n",
    "\n"
   ]
  },
  {
   "cell_type": "code",
   "execution_count": null,
   "metadata": {},
   "outputs": [],
   "source": []
  },
  {
   "cell_type": "code",
   "execution_count": null,
   "metadata": {},
   "outputs": [],
   "source": []
  },
  {
   "cell_type": "code",
   "execution_count": null,
   "metadata": {},
   "outputs": [],
   "source": []
  },
  {
   "cell_type": "code",
   "execution_count": null,
   "metadata": {},
   "outputs": [],
   "source": []
  },
  {
   "cell_type": "code",
   "execution_count": null,
   "metadata": {},
   "outputs": [],
   "source": []
  },
  {
   "cell_type": "code",
   "execution_count": null,
   "metadata": {},
   "outputs": [],
   "source": []
  },
  {
   "cell_type": "code",
   "execution_count": null,
   "metadata": {},
   "outputs": [],
   "source": [
    "\n"
   ]
  },
  {
   "cell_type": "code",
   "execution_count": null,
   "metadata": {},
   "outputs": [],
   "source": []
  }
 ],
 "metadata": {
  "kernelspec": {
   "display_name": "Python 3",
   "language": "python",
   "name": "python3"
  },
  "language_info": {
   "codemirror_mode": {
    "name": "ipython",
    "version": 3
   },
   "file_extension": ".py",
   "mimetype": "text/x-python",
   "name": "python",
   "nbconvert_exporter": "python",
   "pygments_lexer": "ipython3",
   "version": "3.6.7"
  }
 },
 "nbformat": 4,
 "nbformat_minor": 2
}
